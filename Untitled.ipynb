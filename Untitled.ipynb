{
 "cells": [
  {
   "cell_type": "code",
   "execution_count": 1,
   "id": "89bd5efd-0d55-4b9a-922a-c1d5ddf26d79",
   "metadata": {
    "execution": {
     "iopub.execute_input": "2025-04-17T14:29:17.970398Z",
     "iopub.status.busy": "2025-04-17T14:29:17.970129Z",
     "iopub.status.idle": "2025-04-17T14:29:22.149467Z",
     "shell.execute_reply": "2025-04-17T14:29:22.148797Z",
     "shell.execute_reply.started": "2025-04-17T14:29:17.970372Z"
    }
   },
   "outputs": [
    {
     "name": "stdout",
     "output_type": "stream",
     "text": [
      "Collecting nbdev\n",
      "  Downloading nbdev-2.4.2-py3-none-any.whl.metadata (10 kB)\n",
      "Requirement already satisfied: packaging in /home/frank/.config/jupyterlab-desktop/jlab_server/lib/python3.12/site-packages (from nbdev) (24.1)\n",
      "Collecting fastcore>=1.8.0 (from nbdev)\n",
      "  Downloading fastcore-1.8.1-py3-none-any.whl.metadata (3.7 kB)\n",
      "Collecting execnb>=0.1.12 (from nbdev)\n",
      "  Downloading execnb-0.1.14-py3-none-any.whl.metadata (3.6 kB)\n",
      "Collecting astunparse (from nbdev)\n",
      "  Using cached astunparse-1.6.3-py2.py3-none-any.whl.metadata (4.4 kB)\n",
      "Collecting ghapi>=1.0.3 (from nbdev)\n",
      "  Using cached ghapi-1.0.6-py3-none-any.whl.metadata (13 kB)\n",
      "Collecting watchdog (from nbdev)\n",
      "  Using cached watchdog-6.0.0-py3-none-manylinux2014_x86_64.whl.metadata (44 kB)\n",
      "Requirement already satisfied: asttokens in /home/frank/.config/jupyterlab-desktop/jlab_server/lib/python3.12/site-packages (from nbdev) (2.4.1)\n",
      "Requirement already satisfied: setuptools in /home/frank/.config/jupyterlab-desktop/jlab_server/lib/python3.12/site-packages (from nbdev) (72.2.0)\n",
      "Requirement already satisfied: PyYAML in /home/frank/.config/jupyterlab-desktop/jlab_server/lib/python3.12/site-packages (from nbdev) (6.0.2)\n",
      "Requirement already satisfied: ipython in /home/frank/.config/jupyterlab-desktop/jlab_server/lib/python3.12/site-packages (from execnb>=0.1.12->nbdev) (8.26.0)\n",
      "Requirement already satisfied: six>=1.12.0 in /home/frank/.config/jupyterlab-desktop/jlab_server/lib/python3.12/site-packages (from asttokens->nbdev) (1.16.0)\n",
      "Requirement already satisfied: wheel<1.0,>=0.23.0 in /home/frank/.config/jupyterlab-desktop/jlab_server/lib/python3.12/site-packages (from astunparse->nbdev) (0.44.0)\n",
      "Requirement already satisfied: decorator in /home/frank/.config/jupyterlab-desktop/jlab_server/lib/python3.12/site-packages (from ipython->execnb>=0.1.12->nbdev) (5.1.1)\n",
      "Requirement already satisfied: jedi>=0.16 in /home/frank/.config/jupyterlab-desktop/jlab_server/lib/python3.12/site-packages (from ipython->execnb>=0.1.12->nbdev) (0.19.1)\n",
      "Requirement already satisfied: matplotlib-inline in /home/frank/.config/jupyterlab-desktop/jlab_server/lib/python3.12/site-packages (from ipython->execnb>=0.1.12->nbdev) (0.1.7)\n",
      "Requirement already satisfied: prompt-toolkit<3.1.0,>=3.0.41 in /home/frank/.config/jupyterlab-desktop/jlab_server/lib/python3.12/site-packages (from ipython->execnb>=0.1.12->nbdev) (3.0.47)\n",
      "Requirement already satisfied: pygments>=2.4.0 in /home/frank/.config/jupyterlab-desktop/jlab_server/lib/python3.12/site-packages (from ipython->execnb>=0.1.12->nbdev) (2.18.0)\n",
      "Requirement already satisfied: stack-data in /home/frank/.config/jupyterlab-desktop/jlab_server/lib/python3.12/site-packages (from ipython->execnb>=0.1.12->nbdev) (0.6.2)\n",
      "Requirement already satisfied: traitlets>=5.13.0 in /home/frank/.config/jupyterlab-desktop/jlab_server/lib/python3.12/site-packages (from ipython->execnb>=0.1.12->nbdev) (5.14.3)\n",
      "Requirement already satisfied: pexpect>4.3 in /home/frank/.config/jupyterlab-desktop/jlab_server/lib/python3.12/site-packages (from ipython->execnb>=0.1.12->nbdev) (4.9.0)\n",
      "Requirement already satisfied: parso<0.9.0,>=0.8.3 in /home/frank/.config/jupyterlab-desktop/jlab_server/lib/python3.12/site-packages (from jedi>=0.16->ipython->execnb>=0.1.12->nbdev) (0.8.4)\n",
      "Requirement already satisfied: ptyprocess>=0.5 in /home/frank/.config/jupyterlab-desktop/jlab_server/lib/python3.12/site-packages (from pexpect>4.3->ipython->execnb>=0.1.12->nbdev) (0.7.0)\n",
      "Requirement already satisfied: wcwidth in /home/frank/.config/jupyterlab-desktop/jlab_server/lib/python3.12/site-packages (from prompt-toolkit<3.1.0,>=3.0.41->ipython->execnb>=0.1.12->nbdev) (0.2.13)\n",
      "Requirement already satisfied: executing>=1.2.0 in /home/frank/.config/jupyterlab-desktop/jlab_server/lib/python3.12/site-packages (from stack-data->ipython->execnb>=0.1.12->nbdev) (2.0.1)\n",
      "Requirement already satisfied: pure-eval in /home/frank/.config/jupyterlab-desktop/jlab_server/lib/python3.12/site-packages (from stack-data->ipython->execnb>=0.1.12->nbdev) (0.2.3)\n",
      "Downloading nbdev-2.4.2-py3-none-any.whl (70 kB)\n",
      "Downloading execnb-0.1.14-py3-none-any.whl (13 kB)\n",
      "Downloading fastcore-1.8.1-py3-none-any.whl (78 kB)\n",
      "Using cached ghapi-1.0.6-py3-none-any.whl (62 kB)\n",
      "Using cached astunparse-1.6.3-py2.py3-none-any.whl (12 kB)\n",
      "Using cached watchdog-6.0.0-py3-none-manylinux2014_x86_64.whl (79 kB)\n",
      "Installing collected packages: watchdog, fastcore, astunparse, ghapi, execnb, nbdev\n",
      "Successfully installed astunparse-1.6.3 execnb-0.1.14 fastcore-1.8.1 ghapi-1.0.6 nbdev-2.4.2 watchdog-6.0.0\n",
      "Note: you may need to restart the kernel to use updated packages.\n"
     ]
    }
   ],
   "source": [
    "%pip install nbdev"
   ]
  },
  {
   "cell_type": "code",
   "execution_count": 2,
   "id": "cdf21a5b-9123-414c-a87d-112321d7fc07",
   "metadata": {
    "execution": {
     "iopub.execute_input": "2025-04-17T14:36:57.815066Z",
     "iopub.status.busy": "2025-04-17T14:36:57.814682Z",
     "iopub.status.idle": "2025-04-17T14:37:02.528970Z",
     "shell.execute_reply": "2025-04-17T14:37:02.528395Z",
     "shell.execute_reply.started": "2025-04-17T14:36:57.815024Z"
    }
   },
   "outputs": [
    {
     "name": "stdout",
     "output_type": "stream",
     "text": [
      "Obtaining file:///media/frank/lonprojecten/2024-811_falnama-project/falnama-dev\n",
      "  Installing build dependencies ... \u001b[?25ldone\n",
      "\u001b[?25h  Checking if build backend supports build_editable ... \u001b[?25ldone\n",
      "\u001b[?25h  Getting requirements to build editable ... \u001b[?25ldone\n",
      "\u001b[?25h  Preparing editable metadata (pyproject.toml) ... \u001b[?25ldone\n",
      "\u001b[?25hBuilding wheels for collected packages: falnama-dev\n",
      "  Building editable for falnama-dev (pyproject.toml) ... \u001b[?25ldone\n",
      "\u001b[?25h  Created wheel for falnama-dev: filename=falnama_dev-0.0.1-0.editable-py3-none-any.whl size=16290 sha256=3f436299d3954bf9379063b5279df90ff7442ef52b08a23fc491b813e257780d\n",
      "  Stored in directory: /tmp/pip-ephem-wheel-cache-ruip8_qf/wheels/ae/70/1f/83065acfef9fd735474c0cd723470fb3404f2ee41d4b6d87b5\n",
      "Successfully built falnama-dev\n",
      "Installing collected packages: falnama-dev\n",
      "Successfully installed falnama-dev-0.0.1\n",
      "Note: you may need to restart the kernel to use updated packages.\n"
     ]
    }
   ],
   "source": [
    "%pip install -e ."
   ]
  },
  {
   "cell_type": "code",
   "execution_count": null,
   "id": "69bf37fb-848c-44e3-9173-9882b223d7e0",
   "metadata": {},
   "outputs": [],
   "source": []
  }
 ],
 "metadata": {
  "kernelspec": {
   "display_name": "Python 3 (ipykernel)",
   "language": "python",
   "name": "python3"
  },
  "language_info": {
   "codemirror_mode": {
    "name": "ipython",
    "version": 3
   },
   "file_extension": ".py",
   "mimetype": "text/x-python",
   "name": "python",
   "nbconvert_exporter": "python",
   "pygments_lexer": "ipython3",
   "version": "3.12.5"
  },
  "widgets": {
   "application/vnd.jupyter.widget-state+json": {
    "state": {},
    "version_major": 2,
    "version_minor": 0
   }
  }
 },
 "nbformat": 4,
 "nbformat_minor": 5
}
