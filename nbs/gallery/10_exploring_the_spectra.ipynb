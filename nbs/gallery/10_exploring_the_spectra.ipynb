{
 "cells": [
  {
   "cell_type": "raw",
   "id": "722f28bf-02ce-409f-b364-875320634879",
   "metadata": {},
   "source": [
    "---\n",
    "skip_exec: true\n",
    "---"
   ]
  },
  {
   "cell_type": "markdown",
   "id": "c92e5df2-1bc8-461e-8b60-62a4e3503151",
   "metadata": {},
   "source": [
    "# Looking at our paint palette"
   ]
  },
  {
   "cell_type": "markdown",
   "id": "356ecc2a-bd78-46e8-a39e-ce3810a4ce35",
   "metadata": {},
   "source": [
    "To be continued......."
   ]
  }
 ],
 "metadata": {
  "kernelspec": {
   "display_name": "python3",
   "language": "python",
   "name": "python3"
  },
  "widgets": {
   "application/vnd.jupyter.widget-state+json": {
    "state": {},
    "version_major": 2,
    "version_minor": 0
   }
  }
 },
 "nbformat": 4,
 "nbformat_minor": 5
}
